{
 "cells": [
  {
   "cell_type": "code",
   "execution_count": 1,
   "id": "3c4a229a",
   "metadata": {},
   "outputs": [
    {
     "name": "stdout",
     "output_type": "stream",
     "text": [
      "Twinkle,twinkle,little star,\n",
      "\tHow,I wonder what you are!\n",
      "\t\tUp above the world so high,\n",
      "\t\tLike a diamond in the sky.\n",
      "Twinkle,twinkle,little star,\n",
      "\tHow,I wonder what you are!\n"
     ]
    }
   ],
   "source": [
    "print(\"Twinkle,twinkle,little star,\\n\\tHow,I wonder what you are!\\n\\t\\tUp above the world so high,\\n\\t\\tLike a diamond in the sky.\\nTwinkle,twinkle,little star,\\n\\tHow,I wonder what you are!\");\n"
   ]
  },
  {
   "cell_type": "code",
   "execution_count": 2,
   "id": "010f5f90",
   "metadata": {},
   "outputs": [
    {
     "name": "stdout",
     "output_type": "stream",
     "text": [
      "3.9.7\n"
     ]
    }
   ],
   "source": [
    "import platform\n",
    "print(platform.python_version())"
   ]
  },
  {
   "cell_type": "code",
   "execution_count": 3,
   "id": "df095ef0",
   "metadata": {},
   "outputs": [
    {
     "name": "stdout",
     "output_type": "stream",
     "text": [
      "date and time = 31/12/2021 14:58:51\n"
     ]
    }
   ],
   "source": [
    "from datetime import datetime\n",
    "now = datetime.now()\n",
    "dt_string = now.strftime(\"%d/%m/%Y %H:%M:%S\")\n",
    "print(\"date and time =\", dt_string)\n"
   ]
  },
  {
   "cell_type": "code",
   "execution_count": 9,
   "id": "a0453202",
   "metadata": {},
   "outputs": [
    {
     "name": "stdout",
     "output_type": "stream",
     "text": [
      "Enter Radius: 5\n",
      "Area of Circle Will be  78.5\n"
     ]
    }
   ],
   "source": [
    "radius = int(input(\"Enter Radius: \"));\n",
    "radius = radius *radius;\n",
    "pie_value = 3.14;\n",
    "print(\"Area of Circle Will be \", pie_value*radius )"
   ]
  },
  {
   "cell_type": "code",
   "execution_count": 7,
   "id": "b8f19746",
   "metadata": {},
   "outputs": [
    {
     "name": "stdout",
     "output_type": "stream",
     "text": [
      "Enter ur First Name: Saqib\n",
      "Enter ur Last Name: Jamil\n",
      "Name in Reverse order is: Jamil Saqib\n"
     ]
    }
   ],
   "source": [
    "fName = input(\"Enter ur First Name: \");\n",
    "lName = input(\"Enter ur Last Name: \");\n",
    "print(\"Name in Reverse order is: \" + lName +\" \" + fName )"
   ]
  },
  {
   "cell_type": "code",
   "execution_count": 8,
   "id": "1a5f1dbe",
   "metadata": {},
   "outputs": [
    {
     "name": "stdout",
     "output_type": "stream",
     "text": [
      "Enter First Number: 25\n",
      "Enter Second Number: 5\n",
      "Addition of above Num is  30\n"
     ]
    }
   ],
   "source": [
    "firstNum = int(input(\"Enter First Number: \"))\n",
    "secondNum = int(input(\"Enter Second Number: \" ))\n",
    "print(\"Addition of above Num is \", firstNum + secondNum )"
   ]
  },
  {
   "cell_type": "code",
   "execution_count": null,
   "id": "ba43e5da",
   "metadata": {},
   "outputs": [],
   "source": []
  }
 ],
 "metadata": {
  "kernelspec": {
   "display_name": "Python 3 (ipykernel)",
   "language": "python",
   "name": "python3"
  },
  "language_info": {
   "codemirror_mode": {
    "name": "ipython",
    "version": 3
   },
   "file_extension": ".py",
   "mimetype": "text/x-python",
   "name": "python",
   "nbconvert_exporter": "python",
   "pygments_lexer": "ipython3",
   "version": "3.9.7"
  }
 },
 "nbformat": 4,
 "nbformat_minor": 5
}
